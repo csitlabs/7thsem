{
 "cells": [
  {
   "cell_type": "markdown",
   "metadata": {
    "id": "Jfeczk9PhKPg"
   },
   "source": [
    "### Define each of the following in short:\n",
    "\n",
    "### Unsupervised Learning:\n",
    "\n",
    "### Cluster Analysis:\n",
    "\n",
    "### Partitional Cluster:\n",
    "\n",
    "### K means Clustering:\n"
   ]
  },
  {
   "cell_type": "markdown",
   "metadata": {
    "id": "Fe7BHwmjhKPj"
   },
   "source": [
    "### K means Clustering Algorithm:\n",
    "1. Assume n mean coordinate points for given  clusters if k = n\n",
    "2. Use euclidean distance $ Dist [(x,y),(a,b)]=  \\sqrt{(x-a)^2 + (y-b)^2} $\n",
    "where (x,y) are the cooridnates points and (a,b) is one of the mean cooridnate assumed. similarly compute euclidean distance for  (x,y) with other n-1 mean coordinates.\n",
    "3. Compare the distance of the  coordinate (x,y) with each n mean cooridnates. Assign the coordinate (x,y) to the cluster with smallest distance to one of the mean coordinate point cluster.\n",
    "4. Repeat step2,3 for each coordinates points\n",
    "5. compute new mean coordinates of each cluster and repeat step 2,3,4 until there is no change in mean cordinates in previous and present iteration"
   ]
  },
  {
   "cell_type": "code",
   "execution_count": 1,
   "metadata": {
    "id": "klYSIC3WhKPk",
    "outputId": "3b604c2b-f24d-4722-f859-58d2edf1631f"
   },
   "outputs": [
    {
     "data": {
      "text/html": [
       "<div>\n",
       "<style scoped>\n",
       "    .dataframe tbody tr th:only-of-type {\n",
       "        vertical-align: middle;\n",
       "    }\n",
       "\n",
       "    .dataframe tbody tr th {\n",
       "        vertical-align: top;\n",
       "    }\n",
       "\n",
       "    .dataframe thead th {\n",
       "        text-align: right;\n",
       "    }\n",
       "</style>\n",
       "<table border=\"1\" class=\"dataframe\">\n",
       "  <thead>\n",
       "    <tr style=\"text-align: right;\">\n",
       "      <th></th>\n",
       "      <th>sepal-length</th>\n",
       "      <th>sepal-width</th>\n",
       "      <th>petal-length</th>\n",
       "      <th>petal-width</th>\n",
       "      <th>Class</th>\n",
       "    </tr>\n",
       "  </thead>\n",
       "  <tbody>\n",
       "    <tr>\n",
       "      <th>0</th>\n",
       "      <td>5.1</td>\n",
       "      <td>3.5</td>\n",
       "      <td>1.4</td>\n",
       "      <td>0.2</td>\n",
       "      <td>Iris-setosa</td>\n",
       "    </tr>\n",
       "    <tr>\n",
       "      <th>1</th>\n",
       "      <td>4.9</td>\n",
       "      <td>3.0</td>\n",
       "      <td>1.4</td>\n",
       "      <td>0.2</td>\n",
       "      <td>Iris-setosa</td>\n",
       "    </tr>\n",
       "    <tr>\n",
       "      <th>2</th>\n",
       "      <td>4.7</td>\n",
       "      <td>3.2</td>\n",
       "      <td>1.3</td>\n",
       "      <td>0.2</td>\n",
       "      <td>Iris-setosa</td>\n",
       "    </tr>\n",
       "    <tr>\n",
       "      <th>3</th>\n",
       "      <td>4.6</td>\n",
       "      <td>3.1</td>\n",
       "      <td>1.5</td>\n",
       "      <td>0.2</td>\n",
       "      <td>Iris-setosa</td>\n",
       "    </tr>\n",
       "    <tr>\n",
       "      <th>4</th>\n",
       "      <td>5.0</td>\n",
       "      <td>3.6</td>\n",
       "      <td>1.4</td>\n",
       "      <td>0.2</td>\n",
       "      <td>Iris-setosa</td>\n",
       "    </tr>\n",
       "  </tbody>\n",
       "</table>\n",
       "</div>"
      ],
      "text/plain": [
       "   sepal-length  sepal-width  petal-length  petal-width        Class\n",
       "0           5.1          3.5           1.4          0.2  Iris-setosa\n",
       "1           4.9          3.0           1.4          0.2  Iris-setosa\n",
       "2           4.7          3.2           1.3          0.2  Iris-setosa\n",
       "3           4.6          3.1           1.5          0.2  Iris-setosa\n",
       "4           5.0          3.6           1.4          0.2  Iris-setosa"
      ]
     },
     "execution_count": 1,
     "metadata": {},
     "output_type": "execute_result"
    }
   ],
   "source": [
    "import pandas as pd\n",
    "df= pd.read_csv('iris_flower.csv')\n",
    "df.head()"
   ]
  },
  {
   "cell_type": "markdown",
   "metadata": {
    "id": "ns_SGSCkwjfk"
   },
   "source": []
  },
  {
   "cell_type": "markdown",
   "metadata": {
    "id": "yyRB94LMhKPm"
   },
   "source": [
    "##  Dataframe Columns Indexing and Slicing -\n",
    "\n",
    " #### in this example though there are 5 columns we can cluster the dataset based on only petal-length and petal-width so we need to perform indexing and slicing on the overall dataset to ectract just the  petal-length and petal-width using X = array[ : , [2 , 3] ]\n"
   ]
  },
  {
   "cell_type": "code",
   "execution_count": 7,
   "metadata": {
    "id": "zrJ5_JtjhKPm"
   },
   "outputs": [],
   "source": [
    "array = df.values\n",
    "X = array[:,[2,3]]\n"
   ]
  },
  {
   "cell_type": "markdown",
   "metadata": {
    "id": "TFU7SGvzhc30"
   },
   "source": []
  },
  {
   "cell_type": "markdown",
   "metadata": {
    "id": "to4CG0JKhKPm"
   },
   "source": [
    "# Visualize unclustered Data Points"
   ]
  },
  {
   "cell_type": "code",
   "execution_count": 3,
   "metadata": {
    "id": "O6T8U_07hKPm",
    "outputId": "428fd42f-ea17-4625-c04b-e42334061611"
   },
   "outputs": [
    {
     "data": {
      "text/plain": [
       "<matplotlib.collections.PathCollection at 0x12cd9a26e40>"
      ]
     },
     "execution_count": 3,
     "metadata": {},
     "output_type": "execute_result"
    },
    {
     "data": {
      "image/png": "[encoded data removed]",
      "text/plain": [
       "<Figure size 640x480 with 1 Axes>"
      ]
     },
     "metadata": {},
     "output_type": "display_data"
    }
   ],
   "source": [
    "import matplotlib.pyplot as plt\n",
    "plt.scatter(X[:,0],X[:,1], label='True Position')"
   ]
  },
  {
   "cell_type": "markdown",
   "metadata": {
    "id": "pS-4YrXWhKPn"
   },
   "source": [
    "## Create Clusters -Take K = 3 so  3 clusters are formed and all data points are assigned in these three clusters\n",
    "\n",
    "1. To create a K-means cluster with 3 clusters\n",
    "create a KMeans object and pass it 3 as value for n_clusters parameter.\n",
    "\n",
    "2. Then call the fit method on kmeans and pass the data that you want to cluster, which in this case is the X array that we created earlier\n",
    "\n",
    "3. The output y_kmeans is a one dimensional array of 150 elements corresponding to the clusters assigned to all 150 data points."
   ]
  },
  {
   "cell_type": "code",
   "execution_count": 4,
   "metadata": {
    "id": "Gq9MJnEbhKPn",
    "outputId": "276ed239-5275-43f9-8424-d7cb64d0a9a8"
   },
   "outputs": [
    {
     "name": "stdout",
     "output_type": "stream",
     "text": [
      "[0 0 0 0 0 0 0 0 0 0 0 0 0 0 0 0 0 0 0 0 0 0 0 0 0 0 0 0 0 0 0 0 0 0 0 0 0\n",
      " 0 0 0 0 0 0 0 0 0 0 0 0 0 2 2 2 2 2 2 2 2 2 2 2 2 2 2 2 2 2 2 2 2 2 2 2 2\n",
      " 2 2 2 1 2 2 2 2 2 1 2 2 2 2 2 2 2 2 2 2 2 2 2 2 2 2 1 1 1 1 1 1 2 1 1 1 1\n",
      " 1 1 1 1 1 1 1 1 2 1 1 1 1 1 1 2 1 1 1 1 1 1 1 1 1 1 1 2 1 1 1 1 1 1 1 1 1\n",
      " 1 1]\n"
     ]
    }
   ],
   "source": [
    "from sklearn.cluster import KMeans\n",
    "kmeans = KMeans(n_clusters=3)\n",
    "y_kmeans = kmeans.fit_predict(X)\n",
    "print(y_kmeans)"
   ]
  },
  {
   "cell_type": "markdown",
   "metadata": {
    "id": "ABrB_H8_hKPn"
   },
   "source": [
    "### centroid values the algorithm generated for the final clusters\n",
    "\n",
    "### The output will be an array of shape 3 x 2.\n",
    "\n",
    "###  Here the for cluster 1 - first row contains values for the coordinates of the first centroid location i.e. (4.26923077, 1.34230769 )\n",
    "\n",
    "### and for cluster 2 -  the second row contains 2nd centroid location (1.464     , 0.244   ).\n",
    "\n",
    "### for cluster 3 - 3rd centroid location (5.59583333, 2.0375)\n"
   ]
  },
  {
   "cell_type": "code",
   "execution_count": 5,
   "metadata": {
    "id": "cZub1HclhKPn",
    "outputId": "355f5cf4-2bc9-41d4-a31f-b30ecaa46947"
   },
   "outputs": [
    {
     "data": {
      "text/plain": [
       "array([[1.464     , 0.244     ],\n",
       "       [5.59583333, 2.0375    ],\n",
       "       [4.26923077, 1.34230769]])"
      ]
     },
     "execution_count": 5,
     "metadata": {},
     "output_type": "execute_result"
    }
   ],
   "source": [
    "\n",
    "kmeans.cluster_centers_"
   ]
  },
  {
   "cell_type": "markdown",
   "metadata": {
    "id": "ATEJAMrKhKPo"
   },
   "source": [
    "## Final Cluster Visualization"
   ]
  },
  {
   "cell_type": "code",
   "execution_count": 6,
   "metadata": {
    "id": "DSa7rrk0hKPo",
    "outputId": "ac3bbbd3-bc1b-4904-d9f5-222be9c10a87"
   },
   "outputs": [
    {
     "data": {
      "image/png": "[encoded data removed]",
      "text/plain": [
       "<Figure size 640x480 with 1 Axes>"
      ]
     },
     "metadata": {},
     "output_type": "display_data"
    }
   ],
   "source": [
    "plt.scatter(X[:,0],X[:,1],c =y_kmeans, cmap ='brg')\n",
    "plt.scatter(kmeans.cluster_centers_[:,0] ,kmeans.cluster_centers_[:,1], color='black')\n",
    "plt.xlabel('PETAL-LENGTH')\n",
    "plt.ylabel('PETAL-WIDTH')\n",
    "plt.show()"
   ]
  },
  {
   "cell_type": "code",
   "execution_count": null,
   "metadata": {
    "id": "Lu1LUf24hKPo"
   },
   "outputs": [],
   "source": []
  }
 ],
 "metadata": {
  "colab": {
   "provenance": []
  },
  "kernelspec": {
   "display_name": "Python 3",
   "language": "python",
   "name": "python3"
  },
  "language_info": {
   "codemirror_mode": {
    "name": "ipython",
    "version": 3
   },
   "file_extension": ".py",
   "mimetype": "text/x-python",
   "name": "python",
   "nbconvert_exporter": "python",
   "pygments_lexer": "ipython3",
   "version": "3.13.0"
  }
 },
 "nbformat": 4,
 "nbformat_minor": 0
}
