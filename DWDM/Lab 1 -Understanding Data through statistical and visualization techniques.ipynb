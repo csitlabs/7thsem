{
 "cells": [
  {
   "cell_type": "markdown",
   "metadata": {
    "id": "V9ZkKWHsfbkT"
   },
   "source": [
    "## Define Data: write ................\n",
    "##  Exploratory Data Analysis:\n",
    "##  Importance Of EDA:\n",
    "## Describe in short about PIIMA dataset that you are going to use."
   ]
  },
  {
   "cell_type": "code",
   "execution_count": null,
   "metadata": {
    "executionInfo": {
     "elapsed": 1934,
     "status": "ok",
     "timestamp": 1708701584695,
     "user": {
      "displayName": "Bibek Acharya",
      "userId": "03726887138690640528"
     },
     "user_tz": -345
    },
    "id": "lWZALGMwfbkX"
   },
   "outputs": [],
   "source": [
    "import pandas as pd\n",
    "import matplotlib.pyplot as plt\n",
    "import numpy as np\n",
    "import seaborn as sns"
   ]
  },
  {
   "cell_type": "code",
   "execution_count": null,
   "metadata": {},
   "outputs": [],
   "source": [
    "col_names = ['pregnant', 'glucose', 'bp', 'skin', 'insulin', 'bmi', 'pedigree', 'age', 'Diabetic']\n",
    "# load dataset and attach corresponding label to each column of the raw data\n",
    "dbts_ds= pd.read_csv('pima_diabetes.csv', header=0, names=col_names)\n",
    "dbts_ds.head()  # display first 40 rows of a dataset"
   ]
  },
  {
   "cell_type": "markdown",
   "metadata": {
    "id": "_kypiBVvfbka"
   },
   "source": [
    "# check dimensions i.e. number of rows and columns in ths dataset"
   ]
  },
  {
   "cell_type": "code",
   "execution_count": null,
   "metadata": {
    "colab": {
     "base_uri": "https://localhost:8080/"
    },
    "executionInfo": {
     "elapsed": 724,
     "status": "ok",
     "timestamp": 1708608047683,
     "user": {
      "displayName": "Dipesh Shrestha",
      "userId": "00829988826918197125"
     },
     "user_tz": -345
    },
    "id": "Wsp4QqXHfbka",
    "outputId": "86cc5b9f-63cc-438d-e3dc-b6104fcdd6f9"
   },
   "outputs": [],
   "source": [
    "dbts_ds.shape"
   ]
  },
  {
   "cell_type": "markdown",
   "metadata": {
    "id": "MI3SGpzPfbka"
   },
   "source": [
    "## Determine how many rows are related to diabetic (1) class and non diabetic (0) in the total 768 rows of data"
   ]
  },
  {
   "cell_type": "code",
   "execution_count": null,
   "metadata": {
    "colab": {
     "base_uri": "https://localhost:8080/"
    },
    "executionInfo": {
     "elapsed": 6,
     "status": "ok",
     "timestamp": 1708608051734,
     "user": {
      "displayName": "Dipesh Shrestha",
      "userId": "00829988826918197125"
     },
     "user_tz": -345
    },
    "id": "NCFRxXe2fbka",
    "outputId": "8cfc9cc4-b762-44f5-a063-5b7e2a2a23f7"
   },
   "outputs": [],
   "source": [
    "dbts_ds.groupby('Diabetic').size()"
   ]
  },
  {
   "cell_type": "markdown",
   "metadata": {
    "id": "aFqbT6FIfbkb"
   },
   "source": [
    "## View statistical details about the data"
   ]
  },
  {
   "cell_type": "markdown",
   "metadata": {
    "id": "bNkOGvOc1nxz"
   },
   "source": []
  },
  {
   "cell_type": "code",
   "execution_count": null,
   "metadata": {
    "colab": {
     "base_uri": "https://localhost:8080/",
     "height": 300
    },
    "executionInfo": {
     "elapsed": 8,
     "status": "ok",
     "timestamp": 1708610610518,
     "user": {
      "displayName": "Dipesh Shrestha",
      "userId": "00829988826918197125"
     },
     "user_tz": -345
    },
    "id": "kAbeJd8Ffbkb",
    "outputId": "675d4849-7de5-49dd-e420-b44ccef54487"
   },
   "outputs": [],
   "source": [
    "dbts_ds.describe()"
   ]
  },
  {
   "cell_type": "code",
   "execution_count": null,
   "metadata": {
    "colab": {
     "base_uri": "https://localhost:8080/",
     "height": 331
    },
    "executionInfo": {
     "elapsed": 1025,
     "status": "ok",
     "timestamp": 1708610608391,
     "user": {
      "displayName": "Dipesh Shrestha",
      "userId": "00829988826918197125"
     },
     "user_tz": -345
    },
    "id": "2zx530wufbkb",
    "outputId": "949a741e-c017-4547-b52a-e61e41030b55"
   },
   "outputs": [],
   "source": [
    "dbts_ds.describe().T  # transpose this table and see more easily"
   ]
  },
  {
   "cell_type": "markdown",
   "metadata": {
    "id": "LFyDfeyzfbkc"
   },
   "source": [
    "## Exploratory Data Analysis (EDA)  - A preliminary examination of the dataset to better understand its patterns and properties through visualization."
   ]
  },
  {
   "cell_type": "markdown",
   "metadata": {
    "id": "IjKFwmr_fbkc"
   },
   "source": [
    "Histogram - here we look at the distribution of each attribute by discretizing the continuous values into buckets and  count the frequency  in each bucket as histograms.\n",
    "\n",
    "> Histogram is formed by couting the frequency of each  values in the attribute and then plotting it as bargraph.\n",
    "\n",
    "#### This lets us note interesting properties of the attribute distributions such as the possible normal distribution of attributes  associated with the features of the dataset or skewness of the data feature."
   ]
  },
  {
   "cell_type": "markdown",
   "metadata": {
    "id": "F2paUFZu_HMV"
   },
   "source": []
  },
  {
   "cell_type": "code",
   "execution_count": null,
   "metadata": {
    "colab": {
     "base_uri": "https://localhost:8080/",
     "height": 1000
    },
    "executionInfo": {
     "elapsed": 3066,
     "status": "ok",
     "timestamp": 1708610616330,
     "user": {
      "displayName": "Dipesh Shrestha",
      "userId": "00829988826918197125"
     },
     "user_tz": -345
    },
    "id": "O6-jN1Rlfbkc",
    "outputId": "7330ea41-50d5-4b34-c33b-5eb855d5f51d"
   },
   "outputs": [],
   "source": [
    "dbts_ds.hist(figsize = (10,10))"
   ]
  },
  {
   "cell_type": "markdown",
   "metadata": {
    "id": "QyOvn1n3fbkc"
   },
   "source": [
    "## Histogram Data Interpretation of each attributes above\n",
    "\n",
    "### Each picture above is a histogram  that shows the distribution of  each feature or attibute. Each figure represents a univariate distribution. i.e. involving only one variable or feature.\n",
    "\n",
    "### <font color = green> Certain insights from the histogram plot </font>\n",
    "1. we have idnetifed whether a data is normally distributed or skewed   \n",
    "    1. i.e. \"glucose\" as normally distributed while \"insulin\" as right skewed)\n",
    "2. Once we indeitfy the type of ditribution we can apply specific approach for missing values based on data distribution\n",
    "    2. i.e. we may replace the missing value of  \"glucose\" as mean and missing value of  \"insulin\" as median.\n",
    "3. Most of the learning models are based on Normal/Gaussian distribution (the bell shaped curve). So if any data feature is skewed we can transform it into normal distribution then impute the missing values and then feed the learning model.Because such models make good prediciton if data are distributed normally.\n",
    "    3. Algorithms are biased when the data distritbuion is skewed i.e. if the learning algorithm(model) gets trained on the above insulin distribution then the model gives more accurate result on people with insulin level less than 250 but gives incorrect prediction  on people with insulin level grater then 350"
   ]
  },
  {
   "cell_type": "markdown",
   "metadata": {
    "id": "EZ40y_tXfbkc"
   },
   "source": [
    "### Check the skewness degree of each atribute.  Values near zero are less skewed as compared to values away from it. Distribtuions that have skewness value less than -1 or greater than +1 are skewed."
   ]
  },
  {
   "cell_type": "code",
   "execution_count": null,
   "metadata": {
    "colab": {
     "base_uri": "https://localhost:8080/"
    },
    "executionInfo": {
     "elapsed": 765,
     "status": "ok",
     "timestamp": 1708610628575,
     "user": {
      "displayName": "Dipesh Shrestha",
      "userId": "00829988826918197125"
     },
     "user_tz": -345
    },
    "id": "Ja9ZM9E5fbkd",
    "outputId": "8a5eea4c-8d7e-4e3f-973c-2f4f37de7eaf"
   },
   "outputs": [],
   "source": [
    "print(\"Also check this skew value of each attribute in the histogram and you can make a lot of sense by simply seeing the skewnesss of each attibute \")\n",
    "\n",
    "skew_attrib_val = dbts_ds.skew()\n",
    "print(skew_attrib_val)"
   ]
  },
  {
   "cell_type": "markdown",
   "metadata": {
    "id": "KZqgk1nifbkd"
   },
   "source": [
    "### Data Interpretation of above result -->From above skew value, we found that glucose, pregnancy are normally distributed while features like bp, insulin, pedigree etc are skewed."
   ]
  },
  {
   "cell_type": "markdown",
   "metadata": {
    "id": "bnDghXyJfbkd"
   },
   "source": [
    "## Another Insight from histogram data -->The  imbalanced class in the classification problem\n",
    "\n",
    "### Below figure shows there's lot more observations for one class than another and may need special handling in the data preparation\n",
    "\n",
    "## To know such imblanace --> Either use a count function or  visulaize through a histogram   - below figure shows a lot more non-diabetic observations than diabetic which needs special handling."
   ]
  },
  {
   "cell_type": "code",
   "execution_count": null,
   "metadata": {
    "colab": {
     "base_uri": "https://localhost:8080/",
     "height": 610
    },
    "executionInfo": {
     "elapsed": 2104,
     "status": "ok",
     "timestamp": 1708608103461,
     "user": {
      "displayName": "Dipesh Shrestha",
      "userId": "00829988826918197125"
     },
     "user_tz": -345
    },
    "id": "ZSS7XTW8fbkd",
    "outputId": "cf74c2ea-6e28-464c-ed10-a60924484334"
   },
   "outputs": [],
   "source": [
    "output_grp = dbts_ds.groupby('Diabetic').size()\n",
    "print(output_grp)\n",
    "\n",
    "dbts_ds.groupby('Diabetic').glucose.hist(alpha=1)"
   ]
  },
  {
   "cell_type": "markdown",
   "metadata": {
    "id": "0TYmjG-jfbkd"
   },
   "source": [
    "The above figure shows that there are a lot more non diabetic patient than diabetes patients in the total 768 observations.\n",
    "****\n",
    "<b>Training model on such imbalanced classes will likely predict the majority class (non diabetic) and hence the model will have low accuracy predicting diabetic population. </b>"
   ]
  },
  {
   "cell_type": "markdown",
   "metadata": {
    "id": "bd6HL1Z2fbke"
   },
   "source": [
    "### Box Plots\n",
    "****\n",
    "<b> Visualize data distritbution's median as thick line within the box, interquartile range with 25th percentile as left most boundary and  75th percetnile as right most boundary. Data outisde of these interquartile range are considered outliers.</b>\n",
    "\n",
    "###### From the diagram below Insulin has the highest outliers while glucose has the lowest"
   ]
  },
  {
   "cell_type": "code",
   "execution_count": null,
   "metadata": {
    "colab": {
     "base_uri": "https://localhost:8080/",
     "height": 848
    },
    "executionInfo": {
     "elapsed": 939,
     "status": "ok",
     "timestamp": 1708610635003,
     "user": {
      "displayName": "Dipesh Shrestha",
      "userId": "00829988826918197125"
     },
     "user_tz": -345
    },
    "id": "fmoul4RFfbke",
    "outputId": "feb9fca7-f8d9-4725-e63d-757a5fc2ee9f"
   },
   "outputs": [],
   "source": [
    "dbts_ds.boxplot(figsize =(10,10))\n",
    "print(\"MODIFIED  PIMA_NEW DATASET\")"
   ]
  },
  {
   "cell_type": "markdown",
   "metadata": {
    "id": "awkrTDSNfbke"
   },
   "source": [
    "## Heatmap Plot\n",
    "****\n",
    "Identifying correlation between two attributes, values nearer to +1 represents stronger linear relationship between two variables while values nearer to  -1 represents  inverse relation."
   ]
  },
  {
   "cell_type": "code",
   "execution_count": null,
   "metadata": {
    "colab": {
     "base_uri": "https://localhost:8080/",
     "height": 990
    },
    "executionInfo": {
     "elapsed": 1994,
     "status": "ok",
     "timestamp": 1708610641590,
     "user": {
      "displayName": "Dipesh Shrestha",
      "userId": "00829988826918197125"
     },
     "user_tz": -345
    },
    "id": "oP07NXHCfbke",
    "outputId": "2a7358d0-e42e-4f31-d580-c075874e6a72"
   },
   "outputs": [],
   "source": [
    "plt.figure(figsize=(12,12))  # we set the size of figure to 12 by 12.\n",
    "dbts_ds=sns.heatmap(dbts_ds.corr(), annot=True)  # use seaborn library heatmap"
   ]
  },
  {
   "cell_type": "code",
   "execution_count": null,
   "metadata": {
    "id": "3MCx3Dn_fbke"
   },
   "outputs": [],
   "source": []
  }
 ],
 "metadata": {
  "colab": {
   "provenance": []
  },
  "kernelspec": {
   "display_name": "Python 3",
   "language": "python",
   "name": "python3"
  },
  "language_info": {
   "codemirror_mode": {
    "name": "ipython",
    "version": 3
   },
   "file_extension": ".py",
   "mimetype": "text/x-python",
   "name": "python",
   "nbconvert_exporter": "python",
   "pygments_lexer": "ipython3",
   "version": "3.13.0"
  }
 },
 "nbformat": 4,
 "nbformat_minor": 1
}
